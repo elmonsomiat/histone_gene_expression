{
 "cells": [
  {
   "cell_type": "code",
   "execution_count": null,
   "metadata": {},
   "outputs": [],
   "source": [
    "import pandas as pd\n",
    "import numpy as np\n",
    "from sklearn.model_selection import train_test_split\n",
    "\n",
    "from keras.layers import Conv2D, MaxPooling2D\n",
    "from keras.layers import Activation, Dropout, Flatten, Dense, Input\n",
    "from keras.models import Model\n",
    "from keras.layers import Embedding, Dense, LSTM, RepeatVector\n",
    "from keras.layers.wrappers import TimeDistributed\n",
    "from keras.callbacks import EarlyStopping\n",
    "from keras.optimizers import Adam\n",
    "from keras import regularizers\n",
    "from keras.callbacks import ReduceLROnPlateau, EarlyStopping\n",
    "\n",
    "\n"
   ]
  },
  {
   "cell_type": "markdown",
   "metadata": {},
   "source": [
    "# Load data"
   ]
  },
  {
   "cell_type": "code",
   "execution_count": null,
   "metadata": {},
   "outputs": [],
   "source": [
    "data_df = pd.read_csv('x_train.csv')\n",
    "label_df = pd.read_csv('y_train.csv')"
   ]
  },
  {
   "cell_type": "markdown",
   "metadata": {},
   "source": [
    "# Prepare data for training"
   ]
  },
  {
   "cell_type": "code",
   "execution_count": null,
   "metadata": {},
   "outputs": [],
   "source": [
    "grp = data_df.groupby('GeneId')\n",
    "X_ser = grp.apply(lambda x: np.array(x[[ 'H3K4me3', 'H3K4me1', 'H3K36me3', 'H3K9me3', 'H3K27me3']]))\n",
    "\n",
    "X = np.stack(np.array(X_ser))\n",
    "X_CNN = X.reshape(X.shape[0], X.shape[2], X.shape[1], 1)\n",
    "y = label_df.Prediction.values"
   ]
  },
  {
   "cell_type": "code",
   "execution_count": null,
   "metadata": {},
   "outputs": [],
   "source": [
    "X_train, X_test, y_train, y_test = train_test_split(X_CNN, y, test_size=0.2)"
   ]
  },
  {
   "cell_type": "markdown",
   "metadata": {},
   "source": [
    "# CNN Training"
   ]
  },
  {
   "cell_type": "code",
   "execution_count": null,
   "metadata": {},
   "outputs": [],
   "source": [
    "inp = Input(shape=(5, 100, 1))\n",
    "\n",
    "x = Conv2D(32, (3, 3), activation='relu')(inp)\n",
    "x = Dropout(0.2)(x)\n",
    "x = MaxPooling2D(pool_size=(4, 4),data_format=\"channels_first\")(x)\n",
    "x = Conv2D(32, (3, 3), activation='relu')(x)\n",
    "x = Dropout(0.2)(x)\n",
    "x = MaxPooling2D(pool_size=(2, 2),data_format=\"channels_first\")(x)\n",
    "x = Flatten()(x) \n",
    "x = Dense(64, activation='relu')(x)\n",
    "x = Dropout(0.2)(x)\n",
    "\n",
    "out = Dense(1,activation='sigmoid')(x)\n",
    "\n",
    "adam = Adam(lr=0.005, beta_1=0.9, beta_2=0.999, epsilon=None, decay=0.0, amsgrad=False)\n",
    "reduce_lr = ReduceLROnPlateau(monitor='acc', factor=0.4,\n",
    "                              patience=5, min_lr=0.0005, verbose=1)\n",
    "\n",
    "model = Model(inputs=inp, outputs=out)\n",
    "model.compile(loss='binary_crossentropy',\n",
    "              metrics=['accuracy'], optimizer= Adam(lr=0.01))"
   ]
  },
  {
   "cell_type": "code",
   "execution_count": null,
   "metadata": {},
   "outputs": [],
   "source": [
    "model.fit(X_train, y_train, validation_data=(X_test, y_test), epochs=40, callbacks=[reduce_lr])"
   ]
  },
  {
   "cell_type": "markdown",
   "metadata": {},
   "source": [
    "# LSTM Training"
   ]
  },
  {
   "cell_type": "code",
   "execution_count": null,
   "metadata": {},
   "outputs": [],
   "source": [
    "X_train_lstm, X_test_lstm, y_train_lstm, y_test_lstm = train_test_split(X, y, test_size=0.2)"
   ]
  },
  {
   "cell_type": "code",
   "execution_count": null,
   "metadata": {},
   "outputs": [],
   "source": [
    "inp = Input(shape=(100, 5))\n",
    "x = Embedding(5, 4, input_length=100)(x)\n",
    "x = LSTM(254, dropout=0.2, return_sequences=True)(inp)\n",
    "x = LSTM(254, dropout=0.2)(inp)\n",
    "x = Dense(254, activation='relu', W_regularizer=regularizers.l2(0))(x)\n",
    "x = Dense(100, activation='relu', W_regularizer=regularizers.l2(0))(x)\n",
    "x = Dense(50, activation='relu', W_regularizer=regularizers.l2(0))(x)\n",
    "x = Dense(1, activation='sigmoid', W_regularizer=regularizers.l2(0))(x)\n",
    "\n",
    "\n",
    "model_lstm = Model(input=inp, output=x)\n",
    "model_lstm.compile(loss='binary_crossentropy', optimizer= Adam(lr=0.001), metrics=['accuracy'])\n",
    "\n",
    "reduce_lr = ReduceLROnPlateau(monitor='acc', factor=0.4,\n",
    "                              patience=2, min_lr=0.0005, verbose=1)\n",
    "\n",
    "\n",
    "history = model_lstm.fit(X_train_lstm, y_train_lstm, validation_data=(X_test_lstm, y_test_lstm), \\\n",
    "           nb_epoch=100, batch_size=100, shuffle=True,\\\n",
    "           callbacks=[reduce_lr])"
   ]
  },
  {
   "cell_type": "code",
   "execution_count": null,
   "metadata": {},
   "outputs": [],
   "source": []
  }
 ],
 "metadata": {
  "kernelspec": {
   "display_name": "Python 3",
   "language": "python",
   "name": "python3"
  },
  "language_info": {
   "codemirror_mode": {
    "name": "ipython",
    "version": 3
   },
   "file_extension": ".py",
   "mimetype": "text/x-python",
   "name": "python",
   "nbconvert_exporter": "python",
   "pygments_lexer": "ipython3",
   "version": "3.5.2"
  }
 },
 "nbformat": 4,
 "nbformat_minor": 2
}
